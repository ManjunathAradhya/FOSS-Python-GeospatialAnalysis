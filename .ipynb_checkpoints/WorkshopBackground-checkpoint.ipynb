{
 "cells": [
  {
   "cell_type": "markdown",
   "metadata": {},
   "source": [
    "# Workshop Background"
   ]
  },
  {
   "cell_type": "markdown",
   "metadata": {},
   "source": [
    "Python programming language is an easy to read and learn computing language. Its open source nature and wide usage gives rise to strong base of libraries and tools to address any complex and data intensive real world problems. Open source python distribution such as [Anaconda](https://www.anaconda.com/download/) simplifies creation of working environment. Tools like [Jupyter](http://jupyter.org/) notebook enhance the work flow which is intuitive, easy to share and collectively learn faster on data analysis using Python.\n",
    "\n",
    "This workshop intent to give introduction to this advantages of Python. It takes demonstration and do it yourself tasks on geospatial data, the workshop hopes to generate interest and show learning pathway for student to comfortable with Python programming language. The workshop is intend to senior students who have basic understanding on computing and data formats. The workshop takes the simple problems in Geographical Information System (GIS) and its geospatial data sources\n",
    "as the real world problem to address using Python. Recently GIS is seeing exponential increase in its database, ever more improvement in Google maps or other maping service this is being exemplified. It necessitate requirement of fast and efficient data processing tools such as of Python. \n",
    "\n",
    "The workshop comprised of three components\n",
    "\n",
    "### Component 1\n",
    "Python environment and work flow setup, a group assisted task of setting up the Anaconda distribution and Jupyter notebook setup. Setting up the Geographical Information System (GIS) environment with extended discussion. Setting up of GIS tools such as [QGIS](http://www.qgis.org/en/site/) and [Google earth](https://www.google.com/intl/en_in/earth/) \n",
    "\n",
    "### Component 2\n",
    "Find characteristics of road network(type of road network, length of the type) within a 1X1 km grid. The data source is Open Street Map (OSM) road network data on a city level (60X60km size). This operation is operationally simple such as measure a line feature but computationally intensive as the operation comprised of geometry within operation on dense road network seen in urban setup. Libraries such as Shapely, Fiona, Geopandas and rtree index will be used for the fast processing of this operation.\n",
    "\n",
    "### Component 3\n",
    "Find cloud cover percentage over area of interest. The data source is landsat imagery indexed in Google cloud computing platform. Searching cloud free landsat images over an Area of Interest for a temporal extent of a year or more is manual and time consuming. Applying cloud cover detection algorithm could make this operation automatic. Libraries such as rasterio, Geopandas, Fiona, and libraries related to landsat algorithms will be used for this task. \n",
    "\n",
    "## workshop plan\n",
    "\n",
    "1. Component 1- One hour\n",
    "1. Component 2- 1-2 hour\n",
    "1. Component 3- 1-2 hour\n",
    "\n"
   ]
  },
  {
   "cell_type": "code",
   "execution_count": null,
   "metadata": {
    "collapsed": true
   },
   "outputs": [],
   "source": []
  }
 ],
 "metadata": {
  "kernelspec": {
   "display_name": "Python 2",
   "language": "python",
   "name": "python2"
  },
  "language_info": {
   "codemirror_mode": {
    "name": "ipython",
    "version": 2
   },
   "file_extension": ".py",
   "mimetype": "text/x-python",
   "name": "python",
   "nbconvert_exporter": "python",
   "pygments_lexer": "ipython2",
   "version": "2.7.13"
  },
  "latex_envs": {
   "LaTeX_envs_menu_present": true,
   "autocomplete": true,
   "bibliofile": "biblio.bib",
   "cite_by": "apalike",
   "current_citInitial": 1,
   "eqLabelWithNumbers": true,
   "eqNumInitial": 1,
   "hotkeys": {
    "equation": "Ctrl-E",
    "itemize": "Ctrl-I"
   },
   "labels_anchors": false,
   "latex_user_defs": false,
   "report_style_numbering": false,
   "user_envs_cfg": false
  },
  "toc": {
   "colors": {
    "hover_highlight": "#DAA520",
    "navigate_num": "#000000",
    "navigate_text": "#333333",
    "running_highlight": "#FF0000",
    "selected_highlight": "#FFD700",
    "sidebar_border": "#EEEEEE",
    "wrapper_background": "#FFFFFF"
   },
   "moveMenuLeft": true,
   "nav_menu": {
    "height": "31px",
    "width": "252px"
   },
   "navigate_menu": true,
   "number_sections": true,
   "sideBar": true,
   "threshold": 4,
   "toc_cell": true,
   "toc_section_display": "block",
   "toc_window_display": false,
   "widenNotebook": false
  }
 },
 "nbformat": 4,
 "nbformat_minor": 2
}
