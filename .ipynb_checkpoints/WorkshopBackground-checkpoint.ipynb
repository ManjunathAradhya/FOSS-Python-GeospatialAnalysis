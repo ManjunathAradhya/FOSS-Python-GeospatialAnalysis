{
 "cells": [
  {
   "cell_type": "markdown",
   "metadata": {
    "toc": "true"
   },
   "source": [
    "# Table of Contents\n",
    " <p><div class=\"lev1 toc-item\"><a href=\"#Docker-setup\" data-toc-modified-id=\"Docker-setup-1\"><span class=\"toc-item-num\">1&nbsp;&nbsp;</span>Docker setup</a></div><div class=\"lev1 toc-item\"><a href=\"#to-stop-the-docker\" data-toc-modified-id=\"to-stop-the-docker-2\"><span class=\"toc-item-num\">2&nbsp;&nbsp;</span>to stop the docker</a></div><div class=\"lev1 toc-item\"><a href=\"#to-remove\" data-toc-modified-id=\"to-remove-3\"><span class=\"toc-item-num\">3&nbsp;&nbsp;</span>to remove</a></div><div class=\"lev1 toc-item\"><a href=\"#followed-this-for-removing-the-docker\" data-toc-modified-id=\"followed-this-for-removing-the-docker-4\"><span class=\"toc-item-num\">4&nbsp;&nbsp;</span>followed this for removing the <a href=\"https://stackoverflow.com/questions/44760648/how-to-remove-docker-completely-from-ubuntu-14-04\" target=\"_blank\">docker</a></a></div><div class=\"lev2 toc-item\"><a href=\"#to-change-the-docker-default-location\" data-toc-modified-id=\"to-change-the-docker-default-location-41\"><span class=\"toc-item-num\">4.1&nbsp;&nbsp;</span>to change the docker default location</a></div><div class=\"lev1 toc-item\"><a href=\"#to-create-the-jupyterhub-container\" data-toc-modified-id=\"to-create-the-jupyterhub-container-5\"><span class=\"toc-item-num\">5&nbsp;&nbsp;</span>to create the jupyterhub container</a></div><div class=\"lev2 toc-item\"><a href=\"#docker-ubuntu\" data-toc-modified-id=\"docker-ubuntu-51\"><span class=\"toc-item-num\">5.1&nbsp;&nbsp;</span>docker ubuntu</a></div><div class=\"lev2 toc-item\"><a href=\"#Make-the-docker-to-load-its-container-in-another-location\" data-toc-modified-id=\"Make-the-docker-to-load-its-container-in-another-location-52\"><span class=\"toc-item-num\">5.2&nbsp;&nbsp;</span>Make the docker to load its container in another location</a></div><div class=\"lev1 toc-item\"><a href=\"#Workshop-Background\" data-toc-modified-id=\"Workshop-Background-6\"><span class=\"toc-item-num\">6&nbsp;&nbsp;</span>Workshop Background</a></div><div class=\"lev3 toc-item\"><a href=\"#Component-1\" data-toc-modified-id=\"Component-1-601\"><span class=\"toc-item-num\">6.0.1&nbsp;&nbsp;</span>Component 1</a></div><div class=\"lev3 toc-item\"><a href=\"#Component-2\" data-toc-modified-id=\"Component-2-602\"><span class=\"toc-item-num\">6.0.2&nbsp;&nbsp;</span>Component 2</a></div><div class=\"lev3 toc-item\"><a href=\"#Component-3\" data-toc-modified-id=\"Component-3-603\"><span class=\"toc-item-num\">6.0.3&nbsp;&nbsp;</span>Component 3</a></div><div class=\"lev2 toc-item\"><a href=\"#workshop-plan\" data-toc-modified-id=\"workshop-plan-61\"><span class=\"toc-item-num\">6.1&nbsp;&nbsp;</span>workshop plan</a></div>"
   ]
  },
  {
   "cell_type": "markdown",
   "metadata": {},
   "source": [
    "# Docker setup"
   ]
  },
  {
   "cell_type": "markdown",
   "metadata": {},
   "source": [
    "\n",
    "\n",
    "# to stop the docker \n",
    "\n",
    "    docker stop $(docker ps -q --filter ancestor=jupyterhub/jupyterhub )\n",
    "\n",
    "# to remove \n",
    "\n",
    "# followed this for removing the [docker](https://stackoverflow.com/questions/44760648/how-to-remove-docker-completely-from-ubuntu-14-04)\n",
    "\n",
    "\n",
    "## to change the docker default location\n",
    "    \n",
    "1. followed this for changing the default location of container directory of docker, the earlier emthod was failed\n",
    "1. based on this https://stackoverflow.com/questions/24309526/how-to-change-the-docker-image-installation-directory\n",
    "1. created a docker.json file and added the storgae location, this removes the defult location's curent containers, so the containers has to be recreated\n",
    "\n",
    "# to create the jupyterhub container\n",
    "\n",
    "docker run -d --name jupyterhub jupyterhub/jupyterhub jupyterhub\n",
    "docker images\n",
    "docker exec -it jupyterhub bash\n",
    "\n",
    "#while inside the docker, install the conda forge tools for all geospatial libs\n",
    "\n",
    "conda config --add channels conda-forge\n",
    "conda create --yes -n GDAL python=2.7 geopandas \n",
    "source activate GDAL\n",
    "\n",
    "1. to do install following packges to do in debian as the jupyterhub contain is debian 8\n",
    "dpkg --add-architecture i386 \n",
    "apt-get update\n",
    "sudo apt-get install libsm6 libxrender1 libfontconfig1\n",
    "conda install -c conda-forge basemap-data-hires\n",
    "\n",
    "1. there will be error in imorting the matplotlib, which solved by [following](https://github.com/ContinuumIO/docker-images/issues/49)\n",
    "apt update\n",
    "apt install libgl1-mesa-swx11\n",
    "\n",
    "1. there will be error in importing osgeo, which is solved by \n",
    "\n",
    "conda install -c conda-forge gdal\n",
    "conda install -c conda-forge/label/broken gdal \n",
    "\n",
    "1. however the earlier error was tried to solve by [following](https://gis.stackexchange.com/questions/70020/no-ogr-module-despite-having-gdal-installed) but was not working\n",
    "\n",
    "conda install -c conda-forge python-fmask \n",
    "conda install -c conda-forge rasterio\n",
    "\n",
    "1. commit changes in the container\n",
    "\n",
    "conda install -c conda-forge rasterio\n",
    "\n",
    "docker commit -a \"nishadh\" -m \"all FOSS python tools for geospatial analysis\" a282efab237f  nishadhka/foss-pt-gsa:version1\n",
    "\n",
    "docker run --rm -it cc20745b630b\n",
    "\n",
    "ctrl+z+c to kill the running and insie the ocntaine\n",
    "\n",
    "docker run -i -t cc20745b630b bash\n",
    "\n",
    "1. the docker is installed with GDAL envirotment which is making error in executing the jupyterhub, so making new container\n",
    "\n",
    "conda config --add channels conda-forge\n",
    "dpkg --add-architecture i386 \n",
    "apt-get update\n",
    "apt-get install libsm6 libxrender1 libfontconfig1\n",
    "apt install libgl1-mesa-swx11\n",
    "conda install -c conda-forge basemap-data-hires\n",
    "conda install -c conda-forge geopandas\n",
    "conda install -c conda-forge gdal\n",
    "conda install -c conda-forge/label/broken gdal \n",
    "\n",
    "docker commit -a \"nishadh\" -m \"FOSS python tools for geospatial analysis\" 27b897c6d038  foss-pt-gsa/foss-pt-gsa:version2\n",
    "\n",
    "docker run -i -t 26751725ce32 bash\n",
    "\n",
    "1. make the docker conatiner to store it in the google container registory\n",
    "\n",
    "docker tag 26751725ce32 gcr.io/pytalk-geospatial/foss-pt-gsa:version2\n",
    "gcloud docker -- push gcr.io/my-project/my-image\n",
    "\n",
    "gcloud docker -- push gcr.io/pytalk-geospatial/foss-pt-gsa\n",
    "\n",
    "1. the baove comment won't work, as resulted in permission issue, this requeires the altogther instance has to be created with GCR enabled in it as per [this](https://cloud.google.com/container-registry/docs/using-with-google-cloud-platform)\n",
    "\n",
    "1. to make the container public [follow](https://stackoverflow.com/questions/33792803/how-do-i-create-a-public-image-in-google-container-registry-gcr)\n",
    "\n",
    "1. to read more on the registry https://medium.com/google-cloud/sharing-docker-containers-in-google-container-registry-1e816b88eae9"
   ]
  },
  {
   "cell_type": "markdown",
   "metadata": {},
   "source": [
    "## docker ubuntu \n",
    "\n",
    "docker run ubuntu\n",
    "docker exec -it ubuntu bash"
   ]
  },
  {
   "cell_type": "markdown",
   "metadata": {},
   "source": [
    "## Make the docker to load its container in another location\n",
    "\n",
    "https://linuxconfig.org/how-to-move-docker-s-default-var-lib-docker-to-another-directory-on-ubuntu-debian-linux"
   ]
  },
  {
   "cell_type": "markdown",
   "metadata": {},
   "source": [
    "# Workshop Background"
   ]
  },
  {
   "cell_type": "markdown",
   "metadata": {},
   "source": [
    "Python programming language is an easy to read and learn computing language. Its open source nature and wide usage gives rise to strong base of libraries and tools to address any complex and data intensive real world problems. Open source python distribution such as [Anaconda](https://www.anaconda.com/download/) simplifies creation of working environment. Tools like [Jupyter](http://jupyter.org/) notebook enhance the work flow which is intuitive, easy to share and collectively learn faster on data analysis using Python.\n",
    "\n",
    "This workshop intent to give introduction to this advantages of Python. It takes demonstration and do it yourself tasks on geospatial data, the workshop hopes to generate interest and show learning pathway for student to comfortable with Python programming language. The workshop is intend to senior students who have basic understanding on computing and data formats. The workshop takes the simple problems in Geographical Information System (GIS) and its geospatial data sources\n",
    "as the real world problem to address using Python. Recently GIS is seeing exponential increase in its database, ever more improvement in Google maps or other maping service this is being exemplified. It necessitate requirement of fast and efficient data processing tools such as of Python. \n",
    "\n",
    "The workshop comprised of three components\n",
    "\n",
    "### Component 1\n",
    "Python environment and work flow setup, a group assisted task of setting up the Anaconda distribution and Jupyter notebook setup. Setting up the Geographical Information System (GIS) environment with extended discussion. Setting up of GIS tools such as [QGIS](http://www.qgis.org/en/site/) and [Google earth](https://www.google.com/intl/en_in/earth/) \n",
    "\n",
    "### Component 2\n",
    "Find characteristics of road network(type of road network, length of the type) within a 1X1 km grid. The data source is Open Street Map (OSM) road network data on a city level (60X60km size). This operation is operationally simple such as measure a line feature but computationally intensive as the operation comprised of geometry within operation on dense road network seen in urban setup. Libraries such as Shapely, Fiona, Geopandas and rtree index will be used for the fast processing of this operation.\n",
    "\n",
    "### Component 3\n",
    "Find cloud cover percentage over area of interest. The data source is landsat imagery indexed in Google cloud computing platform. Searching cloud free landsat images over an Area of Interest for a temporal extent of a year or more is manual and time consuming. Applying cloud cover detection algorithm could make this operation automatic. Libraries such as rasterio, Geopandas, Fiona, and libraries related to landsat algorithms will be used for this task. \n",
    "\n",
    "## workshop plan\n",
    "\n",
    "1. Component 1- One hour\n",
    "1. Component 2- 1-2 hour\n",
    "1. Component 3- 1-2 hour\n",
    "\n"
   ]
  },
  {
   "cell_type": "code",
   "execution_count": null,
   "metadata": {
    "collapsed": true
   },
   "outputs": [],
   "source": []
  }
 ],
 "metadata": {
  "kernelspec": {
   "display_name": "Python 2",
   "language": "python",
   "name": "python2"
  },
  "language_info": {
   "codemirror_mode": {
    "name": "ipython",
    "version": 2
   },
   "file_extension": ".py",
   "mimetype": "text/x-python",
   "name": "python",
   "nbconvert_exporter": "python",
   "pygments_lexer": "ipython2",
   "version": "2.7.14"
  },
  "latex_envs": {
   "LaTeX_envs_menu_present": true,
   "autocomplete": true,
   "bibliofile": "biblio.bib",
   "cite_by": "apalike",
   "current_citInitial": 1,
   "eqLabelWithNumbers": true,
   "eqNumInitial": 1,
   "hotkeys": {
    "equation": "Ctrl-E",
    "itemize": "Ctrl-I"
   },
   "labels_anchors": false,
   "latex_user_defs": false,
   "report_style_numbering": false,
   "user_envs_cfg": false
  },
  "toc": {
   "colors": {
    "hover_highlight": "#DAA520",
    "navigate_num": "#000000",
    "navigate_text": "#333333",
    "running_highlight": "#FF0000",
    "selected_highlight": "#FFD700",
    "sidebar_border": "#EEEEEE",
    "wrapper_background": "#FFFFFF"
   },
   "moveMenuLeft": true,
   "nav_menu": {
    "height": "31px",
    "width": "252px"
   },
   "navigate_menu": true,
   "number_sections": true,
   "sideBar": true,
   "threshold": 4,
   "toc_cell": true,
   "toc_section_display": "block",
   "toc_window_display": false,
   "widenNotebook": false
  }
 },
 "nbformat": 4,
 "nbformat_minor": 2
}
