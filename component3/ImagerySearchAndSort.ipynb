{
 "cells": [
  {
   "cell_type": "markdown",
   "metadata": {},
   "source": [
    "\\title{Satellite Imagery Search and Sort} \\author{} \\maketitle"
   ]
  },
  {
   "cell_type": "markdown",
   "metadata": {
    "toc": "true"
   },
   "source": [
    "# Table of Contents\n",
    " <p><div class=\"lev1 toc-item\"><a href=\"#The-Data-source\" data-toc-modified-id=\"The-Data-source-1\"><span class=\"toc-item-num\">1&nbsp;&nbsp;</span>The Data source</a></div><div class=\"lev1 toc-item\"><a href=\"#Other-requeired-tool\" data-toc-modified-id=\"Other-requeired-tool-2\"><span class=\"toc-item-num\">2&nbsp;&nbsp;</span>Other requeired tool</a></div><div class=\"lev1 toc-item\"><a href=\"#The-codes\" data-toc-modified-id=\"The-codes-3\"><span class=\"toc-item-num\">3&nbsp;&nbsp;</span>The codes</a></div><div class=\"lev2 toc-item\"><a href=\"#get-the-data\" data-toc-modified-id=\"get-the-data-31\"><span class=\"toc-item-num\">3.1&nbsp;&nbsp;</span>get the data</a></div><div class=\"lev2 toc-item\"><a href=\"#Apply-fmask-algorthm\" data-toc-modified-id=\"Apply-fmask-algorthm-32\"><span class=\"toc-item-num\">3.2&nbsp;&nbsp;</span>Apply fmask algorthm</a></div><div class=\"lev2 toc-item\"><a href=\"#detecting-lowest-cloud-cover-imagery\" data-toc-modified-id=\"detecting-lowest-cloud-cover-imagery-33\"><span class=\"toc-item-num\">3.3&nbsp;&nbsp;</span>detecting lowest cloud cover imagery</a></div>"
   ]
  },
  {
   "cell_type": "markdown",
   "metadata": {},
   "source": [
    "# The Data source\n",
    "\n",
    "1. NASA's Landsat satellite imagery\n",
    "\n",
    "# Other requeired tool\n",
    "1. Anaconda Python distributuion\n",
    "1. Jupyter notebook\n",
    "1. Google aearth\n",
    "1. google cloud platform\n",
    "1. Qgis"
   ]
  },
  {
   "cell_type": "markdown",
   "metadata": {},
   "source": [
    "# The codes"
   ]
  },
  {
   "cell_type": "markdown",
   "metadata": {},
   "source": [
    "## get the data"
   ]
  },
  {
   "cell_type": "code",
   "execution_count": null,
   "metadata": {
    "collapsed": true
   },
   "outputs": [],
   "source": [
    "import os\n",
    "import pandas as pd\n",
    "\n",
    "pathrow2=pd.read_csv('landsat4apna.csv')\n",
    "\n",
    "cities=['Coimbatore']\n",
    "\n",
    "\n",
    "\n",
    "for city in cities:\n",
    "    pathrow3=pathrow2[pathrow2.city==city]\n",
    "    newpath = '/home/sunbird/landsat/'+city \n",
    "    if not os.path.exists(newpath):\n",
    "        os.makedirs(newpath)\n",
    "    for index, row in pathrow3.iterrows():\n",
    "        os.popen(\"gsutil -m cp -r \"+row['BASE_URL']+\" /home/sunbird/landsat/\"+city+\"/\").readlines()"
   ]
  },
  {
   "cell_type": "markdown",
   "metadata": {},
   "source": [
    "## Apply fmask algorthm"
   ]
  },
  {
   "cell_type": "code",
   "execution_count": null,
   "metadata": {
    "collapsed": true
   },
   "outputs": [],
   "source": [
    "import os\n",
    "import sys\n",
    "import argparse\n",
    "\n",
    "from fmask import landsatangles\n",
    "from fmask import config\n",
    "\n",
    "from rios import fileinfo\n",
    "import numpy\n",
    "import glob\n",
    "\n",
    "parentfolder='/home/sunbird/landsat/coimbatore'\n",
    "\n",
    "\n",
    "\n",
    "os.chdir(parentfolder)\n",
    "lcfolders=glob.glob('L*')\n",
    "\n",
    "from pyproj import Proj, transform\n",
    "import datetime\n",
    "\n",
    "def sunAnglesForExtent(imgInfo, mtlInfo):\n",
    "    \"\"\"\n",
    "    Return array of sun azimuth and zenith for each of the corners of the image\n",
    "    extent. Note that this is the raster extent, not the corners of the swathe.\n",
    "\n",
    "    The algorithm used here has been copied from the 6S possol() subroutine. The\n",
    "    Fortran code I copied it from was .... up to the usual standard in 6S. So, the\n",
    "    notation is not always clear.\n",
    "\n",
    "    \"\"\"\n",
    "    inProj = Proj(init='epsg:32643')\n",
    "    outProj = Proj(init='epsg:4326')\n",
    "    cornerLatLong = imgInfo.getCorners()\n",
    "    (ul_long, ul_lat, ur_long, ur_lat, lr_long, lr_lat, ll_long, ll_lat) = cornerLatLong\n",
    "    ul_long1, ul_lat1=transform(inProj,outProj,ul_long, ul_lat)\n",
    "    ur_long1, ur_lat1=transform(inProj,outProj,ur_long, ur_lat)\n",
    "    lr_long1, lr_lat1=transform(inProj,outProj,lr_long, lr_lat,)\n",
    "    ll_long1, ll_lat1=transform(inProj,outProj,ll_long, ll_lat)\n",
    "    pts = numpy.array([\n",
    "        [ul_long1, ul_lat1],\n",
    "        [ur_long1, ur_lat1],\n",
    "        [ll_long1, ll_lat1],\n",
    "        [lr_long1, lr_lat1]\n",
    "    ])\n",
    "    longDeg = pts[:, 0]\n",
    "    latDeg = pts[:, 1]\n",
    "    # Date/time in UTC\n",
    "    dateStr = mtlInfo['DATE_ACQUIRED']\n",
    "    timeStr = mtlInfo['SCENE_CENTER_TIME'].replace('Z', '')\n",
    "    ymd = [int(i) for i in dateStr.split('-')]\n",
    "    dateObj = datetime.date(ymd[0], ymd[1], ymd[2])\n",
    "    julianDay = (dateObj - datetime.date(ymd[0], 1, 1)).days + 1\n",
    "    juldayYearEnd = (datetime.date(ymd[0], 12, 31) - datetime.date(ymd[0], 1, 1)).days + 1\n",
    "    # Julian day as a proportion of the year\n",
    "    jdp = julianDay / juldayYearEnd\n",
    "    # Hour in UTC\n",
    "    hms = [float(x) for x in timeStr.split(':')]\n",
    "    hourGMT = hms[0] + hms[1] / 60.0 + hms[2] / 3600.0\n",
    "    (sunAz, sunZen) = landsatangles.sunAnglesForPoints(latDeg, longDeg, hourGMT, jdp)\n",
    "    sunAngles = numpy.vstack((sunAz, sunZen)).T\n",
    "    return sunAngles\n",
    "\n",
    "\n",
    "def getCtrLatLong1(imgInfo):\n",
    "    \"\"\"\n",
    "    Return the lat/long of the centre of the image as\n",
    "        (ctrLat, ctrLong)\n",
    "\n",
    "    \"\"\"\n",
    "    cornerLatLong = imgInfo.getCorners()\n",
    "    inProj = Proj(init='epsg:32643')\n",
    "    outProj = Proj(init='epsg:4326')\n",
    "    (ul_long, ul_lat, ur_long, ur_lat, lr_long, lr_lat, ll_long, ll_lat) = cornerLatLong\n",
    "    ul_long1, ul_lat1=transform(inProj,outProj,ul_long, ul_lat)\n",
    "    ur_long1, ur_lat1=transform(inProj,outProj,ur_long, ur_lat)\n",
    "    lr_long1, lr_lat1=transform(inProj,outProj,lr_long, lr_lat)\n",
    "    ll_long1, ll_lat1=transform(inProj,outProj,ll_long, ll_lat)\n",
    "    ctrLat = numpy.array([ul_lat, ur_lat, lr_lat, ll_lat]).mean()\n",
    "    ctrLong = numpy.array([ul_long, ur_long, lr_long, ll_long]).mean()\n",
    "    return (ctrLat, ctrLong)\n",
    "\n",
    "\n",
    "\n",
    "def makeAnglesImage(templateimg, outfile, nadirLine, extentSunAngles, satAzimuth, imgInfo):\n",
    "    \"\"\"\n",
    "    Make a single output image file of the sun and satellite angles for every\n",
    "    pixel in the template image.\n",
    "\n",
    "    \"\"\"\n",
    "    imgInfo  = fileinfo.ImageInfo(templateimg)\n",
    "    infiles = applier.FilenameAssociations()\n",
    "    outfiles = applier.FilenameAssociations()\n",
    "    otherargs = applier.OtherInputs()\n",
    "    controls = applier.ApplierControls()\n",
    "    infiles.img = templateimg\n",
    "    outfiles.angles = outfile\n",
    "    (ctrLat, ctrLong) = getCtrLatLong1(imgInfo)\n",
    "    otherargs.R = landsatangles.localRadius(ctrLat)\n",
    "    otherargs.nadirLine = nadirLine\n",
    "    otherargs.xMin = imgInfo.xMin\n",
    "    otherargs.xMax = imgInfo.xMax\n",
    "    otherargs.yMin = imgInfo.yMin\n",
    "    otherargs.yMax = imgInfo.yMax\n",
    "    otherargs.extentSunAngles = extentSunAngles\n",
    "    otherargs.satAltitude = 705000      # Landsat nominal altitude in metres\n",
    "    otherargs.satAzimuth = satAzimuth\n",
    "    otherargs.radianScale = 100        # Store pixel values as (radians * radianScale)\n",
    "    controls.setStatsIgnore(500)\n",
    "    applier.apply(landsatangles.makeAngles, infiles, outfiles, otherargs, controls=controls)\n",
    "    \n",
    "    \n",
    "for lcfolder in lcfolders:\n",
    "    os.chdir(parentfolder)\n",
    "    os.chdir(lcfolder+'/')\n",
    "    os.popen(\"gdal_merge.py -separate -o \"+'ref_'+lcfolder+\".tif\"+\" apna*_B[1-7,9].tif\").readlines()\n",
    "    os.popen(\"gdal_merge.py -separate -o \"+'thermal_'+lcfolder+\".tif\"+\" apna*_B1[0,1].tif\").readlines()\n",
    "    mtlInfo = config.readMTLFile(lcfolder+'_MTL.txt')\n",
    "    imgInfo = fileinfo.ImageInfo('ref_'+lcfolder+\".tif\")\n",
    "    corners = landsatangles.findImgCorners('ref_'+lcfolder+\".tif\", imgInfo)\n",
    "    nadirLine = landsatangles.findNadirLine(corners)\n",
    "    extentSunAngles = sunAnglesForExtent(imgInfo, mtlInfo)\n",
    "    satAzimuth = landsatangles.satAzLeftRight(nadirLine)\n",
    "    makeAnglesImage('ref_'+lcfolder+\".tif\", 'angles_'+lcfolder+\".tif\",nadirLine, extentSunAngles, satAzimuth, imgInfo)\n",
    "    os.popen(\"/home/sunbird/landsat/coimbatore/fmask_usgsLandsatSaturationMask.py -i \"+\"ref_\"+lcfolder+\".tif\"+\" -m *_MTL.txt -o \"+\"saturationmask_\"+lcfolder+\".tif\").readlines()\n",
    "    os.popen(\"/home/sunbird/landsat/coimbatore/fmask_usgsLandsatTOA.py -i \"+\"ref_\"+lcfolder+\".tif\"+\" -m *_MTL.txt -z angles_\"+lcfolder+\".tif \"+\"-o toa_\"+lcfolder+\".tif\").readlines()\n",
    "    os.popen(\"/home/sunbird/landsat/coimbatore/fmask_usgsLandsatStacked.py -t \"+\"thermal_\"+lcfolder+\".tif\"+\" -a \"+\"toa_\"+lcfolder+\".tif\"+\" -m *_MTL.txt -z angles_\"+lcfolder+\".tif\"+\" -s \"+\"saturationmask_\"+lcfolder+\".tif\"+\" -o \"+\"cloud_\"+lcfolder+\".tif\").readlines()\n",
    "    os.chdir(parentfolder)\n",
    "    print \"a lcfolder done\"\n",
    "    \n",
    "#os.listdir('.')"
   ]
  },
  {
   "cell_type": "markdown",
   "metadata": {},
   "source": [
    "## detecting lowest cloud cover imagery"
   ]
  },
  {
   "cell_type": "code",
   "execution_count": null,
   "metadata": {
    "collapsed": true
   },
   "outputs": [],
   "source": [
    "import os\n",
    "import glob\n",
    "import rasterio\n",
    "\n",
    "\n",
    "parentfolder='/home/sunbird/landsat/coimbatore'\n",
    "\n",
    "\n",
    "\n",
    "os.chdir(parentfolder)\n",
    "lcfolders=glob.glob('L*')\n",
    "\n",
    "for lcfolder in lcfolders:\n",
    "    os.chdir(parentfolder)\n",
    "    os.chdir(lcfolder+'/')\n",
    "    dataset = rasterio.open(\"cloud_\"+lcfolder+\".tif\")\n",
    "    data=dataset.read(1)\n",
    "    unique, counts = np.unique(data, return_counts=True)\n",
    "    dattif=dict(zip(unique, counts))\n",
    "    print lcfolder, dattif\n",
    "    dattif1={x: dattif[x] for x in [2,3] if x in dattif}\n",
    "    percloud=round(((sum([i for i in dattif1.values()])*30*30)/(1000*1000)) / ((sum([i for i in dattif.values()])*30*30)/(1000*1000)) *100,1)\n",
    "    print lcfolder, percloud"
   ]
  },
  {
   "cell_type": "code",
   "execution_count": 1,
   "metadata": {
    "collapsed": true
   },
   "outputs": [],
   "source": [
    "import rasterio"
   ]
  },
  {
   "cell_type": "code",
   "execution_count": 3,
   "metadata": {
    "collapsed": true
   },
   "outputs": [],
   "source": [
    "dataset = rasterio.open(\"/home/sunbird/Desktop/apna_LC81440522015013LGN00_B2.tif\")\n",
    "data=dataset.read(1)"
   ]
  },
  {
   "cell_type": "code",
   "execution_count": 4,
   "metadata": {},
   "outputs": [
    {
     "data": {
      "text/plain": [
       "array([[0, 0, 0, ..., 0, 0, 0],\n",
       "       [0, 0, 0, ..., 0, 0, 0],\n",
       "       [0, 0, 0, ..., 0, 0, 0],\n",
       "       ..., \n",
       "       [0, 0, 0, ..., 0, 0, 0],\n",
       "       [0, 0, 0, ..., 0, 0, 0],\n",
       "       [0, 0, 0, ..., 0, 0, 0]], dtype=uint16)"
      ]
     },
     "execution_count": 4,
     "metadata": {},
     "output_type": "execute_result"
    }
   ],
   "source": [
    "data"
   ]
  },
  {
   "cell_type": "code",
   "execution_count": 7,
   "metadata": {},
   "outputs": [
    {
     "data": {
      "text/plain": [
       "(1857, 1834)"
      ]
     },
     "execution_count": 7,
     "metadata": {},
     "output_type": "execute_result"
    }
   ],
   "source": [
    "data.shape"
   ]
  },
  {
   "cell_type": "code",
   "execution_count": null,
   "metadata": {
    "collapsed": true
   },
   "outputs": [],
   "source": []
  }
 ],
 "metadata": {
  "author": "Satellite Imagery Search and Sort",
  "kernelspec": {
   "display_name": "Python 2",
   "language": "python",
   "name": "python2"
  },
  "language_info": {
   "codemirror_mode": {
    "name": "ipython",
    "version": 2
   },
   "file_extension": ".py",
   "mimetype": "text/x-python",
   "name": "python",
   "nbconvert_exporter": "python",
   "pygments_lexer": "ipython2",
   "version": "2.7.14"
  },
  "latex_envs": {
   "LaTeX_envs_menu_present": true,
   "autocomplete": true,
   "bibliofile": "biblio.bib",
   "cite_by": "apalike",
   "current_citInitial": 1,
   "eqLabelWithNumbers": true,
   "eqNumInitial": 1,
   "hotkeys": {
    "equation": "Ctrl-E",
    "itemize": "Ctrl-I"
   },
   "labels_anchors": false,
   "latex_user_defs": false,
   "report_style_numbering": false,
   "user_envs_cfg": false
  },
  "toc": {
   "colors": {
    "hover_highlight": "#DAA520",
    "navigate_num": "#000000",
    "navigate_text": "#333333",
    "running_highlight": "#FF0000",
    "selected_highlight": "#FFD700",
    "sidebar_border": "#EEEEEE",
    "wrapper_background": "#FFFFFF"
   },
   "moveMenuLeft": true,
   "nav_menu": {
    "height": "133px",
    "width": "252px"
   },
   "navigate_menu": true,
   "number_sections": true,
   "sideBar": true,
   "threshold": 4,
   "toc_cell": true,
   "toc_section_display": "block",
   "toc_window_display": true,
   "widenNotebook": false
  }
 },
 "nbformat": 4,
 "nbformat_minor": 2
}
