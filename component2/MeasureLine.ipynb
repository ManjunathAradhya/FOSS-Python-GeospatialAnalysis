{
 "cells": [
  {
   "cell_type": "markdown",
   "metadata": {},
   "source": [
    "\\title{Measuring line geographical features} \\author{} \\maketitle"
   ]
  },
  {
   "cell_type": "markdown",
   "metadata": {
    "toc": "true"
   },
   "source": [
    "# Table of Contents\n",
    " <p><div class=\"lev1 toc-item\"><a href=\"#The-data-source\" data-toc-modified-id=\"The-data-source-1\"><span class=\"toc-item-num\">1&nbsp;&nbsp;</span>The data source</a></div><div class=\"lev1 toc-item\"><a href=\"#other-requeired-tool\" data-toc-modified-id=\"other-requeired-tool-2\"><span class=\"toc-item-num\">2&nbsp;&nbsp;</span>other requeired tool</a></div><div class=\"lev1 toc-item\"><a href=\"#The-codes\" data-toc-modified-id=\"The-codes-3\"><span class=\"toc-item-num\">3&nbsp;&nbsp;</span>The codes</a></div>"
   ]
  },
  {
   "cell_type": "markdown",
   "metadata": {},
   "source": [
    "# The data source\n",
    "1. Open street map shape files\n",
    "\n",
    "# other requeired tool\n",
    "1. Anaconda Python distributuion\n",
    "1. Jupyter notebook\n",
    "1. Google aearth\n",
    "1. Qgis"
   ]
  },
  {
   "cell_type": "markdown",
   "metadata": {},
   "source": [
    "# The codes"
   ]
  },
  {
   "cell_type": "code",
   "execution_count": null,
   "metadata": {
    "collapsed": true
   },
   "outputs": [],
   "source": [
    "import numpy as np\n",
    "import pandas as pd\n",
    "from geopandas import GeoDataFrame\n",
    "from shapely.geometry import MultiPoint, MultiPolygon, line\n",
    "import geopandas as gp\n",
    "import ast\n",
    "import fiona\n",
    "from shapely.geometry import shape, mapping,LineString\n",
    "from shapely.ops import cascaded_union, unary_union\n",
    "import fiona\n",
    "from shapely.geometry import shape\n",
    "from rtree import index\n",
    "\n",
    "\n",
    "bufSHP = 'Emis_inv_grid_v1.shp'\n",
    "intSHP = 'Roadways_gridV6.shp'\n",
    "#the new shape file going to be created\n",
    "ctSHP  = 'Roadways_v3.shp'\n",
    "\n",
    "with fiona.open(bufSHP, 'r') as layer1:\n",
    "    with fiona.open(ctSHP, 'r') as layer2:\n",
    "        # We copy schema and add the  new property for the new resulting shp\n",
    "        schema = layer2.schema.copy()\n",
    "        schema['properties']['gid'] = 'int:10'\n",
    "        # We open a first empty shp to write new content from both others shp\n",
    "        with fiona.open(intSHP, 'w', 'ESRI Shapefile', schema) as layer3:\n",
    "            index = rtree.index.Index()\n",
    "            for feat1 in layer1:\n",
    "                fid = int(feat1['id'])\n",
    "                geom1 = shape(feat1['geometry'])\n",
    "                index.insert(fid, geom1.bounds)\n",
    "            for feat2 in layer2:\n",
    "                geom2 = shape(feat2['geometry'])\n",
    "                for fid in list(index.intersection(geom2.bounds)):\n",
    "                    if fid != int(feat2['id']):\n",
    "                        feat1 = layer1[fid]\n",
    "                        geom1 = shape(feat1['geometry'])\n",
    "                        if geom1.intersects(geom2):\n",
    "                            # We take attributes from ctSHP\n",
    "                            props = feat2['properties']\n",
    "                            # Then append the uid attribute we want from the other shp\n",
    "                            props['gid'] = feat1['properties']['gid']\n",
    "                            geom3=geom1.intersection(geom2)\n",
    "                            props['length']=geom3.length*100\n",
    "                            # Add the content to the right schema in the new shp\n",
    "                            layer3.write({\n",
    "                                'properties': props,\n",
    "                                'geometry': mapping(geom1.intersection(geom2))\n",
    "                            })"
   ]
  }
 ],
 "metadata": {
  "author": "Measuring line geographical features",
  "kernelspec": {
   "display_name": "Python 2",
   "language": "python",
   "name": "python2"
  },
  "language_info": {
   "codemirror_mode": {
    "name": "ipython",
    "version": 2
   },
   "file_extension": ".py",
   "mimetype": "text/x-python",
   "name": "python",
   "nbconvert_exporter": "python",
   "pygments_lexer": "ipython2",
   "version": "2.7.13"
  },
  "latex_envs": {
   "LaTeX_envs_menu_present": true,
   "autocomplete": true,
   "bibliofile": "biblio.bib",
   "cite_by": "apalike",
   "current_citInitial": 1,
   "eqLabelWithNumbers": true,
   "eqNumInitial": 1,
   "hotkeys": {
    "equation": "Ctrl-E",
    "itemize": "Ctrl-I"
   },
   "labels_anchors": false,
   "latex_user_defs": false,
   "report_style_numbering": false,
   "user_envs_cfg": false
  },
  "toc": {
   "colors": {
    "hover_highlight": "#DAA520",
    "navigate_num": "#000000",
    "navigate_text": "#333333",
    "running_highlight": "#FF0000",
    "selected_highlight": "#FFD700",
    "sidebar_border": "#EEEEEE",
    "wrapper_background": "#FFFFFF"
   },
   "moveMenuLeft": true,
   "nav_menu": {
    "height": "68px",
    "width": "252px"
   },
   "navigate_menu": true,
   "number_sections": true,
   "sideBar": true,
   "threshold": 4,
   "toc_cell": true,
   "toc_section_display": "block",
   "toc_window_display": true,
   "widenNotebook": false
  }
 },
 "nbformat": 4,
 "nbformat_minor": 2
}
