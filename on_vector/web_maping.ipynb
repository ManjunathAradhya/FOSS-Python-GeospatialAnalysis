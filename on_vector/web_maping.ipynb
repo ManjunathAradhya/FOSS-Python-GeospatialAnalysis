{
 "cells": [
  {
   "cell_type": "markdown",
   "metadata": {},
   "source": [
    "# Making a Geodataframe from Fire location data"
   ]
  },
  {
   "cell_type": "code",
   "execution_count": null,
   "metadata": {},
   "outputs": [],
   "source": [
    "#Import the necessary Python moduless\n",
    "import pandas as pd\n",
    "import geopandas as gpd\n",
    "import numpy as np\n",
    "from geopandas.tools import sjoin\n",
    "import folium\n",
    "from folium.plugins import MarkerCluster\n",
    "from folium import IFrame\n",
    "import shapely\n",
    "from shapely.geometry import Point\n",
    "import unicodedata\n",
    "import pysal as ps"
   ]
  },
  {
   "cell_type": "code",
   "execution_count": null,
   "metadata": {},
   "outputs": [],
   "source": [
    "dba = pd.read_csv('../data/vector/fire_archive_V1_2871.csv')\n",
    "\n",
    "def lookup(s):\n",
    "    \"\"\"\n",
    "    This is an extremely fast approach to datetime parsing.\n",
    "    For large data, the same dates are often repeated. Rather than\n",
    "    re-parse these, we store all unique dates, parse them, and\n",
    "    use a lookup to convert all dates.\n",
    "    \"\"\"\n",
    "    return s.map({date:pd.to_datetime(date) for date in s.unique()})\n",
    "\n",
    "dba.loc[:,'date']=lookup(dba['acq_date'])\n",
    "\n",
    "dba['monthday'] = dba['date'].dt.strftime('%j')\n",
    "dba['fileformate'] = dba['date'].dt.strftime('%Y_%m_%d')\n",
    "dba['year'] = dba['date'].dt.strftime('%Y')\n",
    "\n",
    "\n",
    "yearlist=dba.drop_duplicates('year')\n",
    "yearlist1=yearlist['year'].tolist()\n",
    "\n",
    "dba"
   ]
  },
  {
   "cell_type": "code",
   "execution_count": null,
   "metadata": {},
   "outputs": [],
   "source": [
    "#First create a GeoSeries of crime locations by converting coordinates to Shapely geometry objects\n",
    "#Specify the coordinate system ESPG4326 which represents the standard WGS84 coordinate system\n",
    "fire_geo = gpd.GeoSeries(dba.apply(lambda z: Point(z['longitude'], z['latitude']), 1),crs={'init': 'epsg:4326'})\n",
    "\n",
    "#Create a geodataframe from the pandas dataframe and the geoseries of shapely geometry objects\n",
    "firepts = gpd.GeoDataFrame(dba.drop(['longitude', 'latitude'], 1), geometry=fire_geo)\n",
    "print(firepts.head())"
   ]
  },
  {
   "cell_type": "markdown",
   "metadata": {},
   "source": [
    "# calculate state level density of fire observation"
   ]
  },
  {
   "cell_type": "code",
   "execution_count": null,
   "metadata": {},
   "outputs": [],
   "source": [
    "#Read tracts shapefile into GeoDataFrame\n",
    "state_poly = gpd.read_file('India_states.shp')\n",
    "\n",
    "#Generate Counts of Assaults per Census Tract\n",
    "#Spatially join census tracts to assaults (after projecting) and then group by Tract FIPS while counting the number of crimes\n",
    "point_counts = gpd.tools.sjoin(firepts.to_crs(state_poly.crs), state_poly.reset_index()).groupby('censuscode').size()\n",
    "\n",
    "#Calculate Assault Density, converting square meters to square miles.\n",
    "#state_poly['firePSqm'] = (point_counts/(state_poly.geometry.area)).fillna(0)\n",
    "#state_poly = state_poly.reset_index()\n",
    "#print(state_poly.head())\n",
    "point_counts=pd.DataFrame(point_counts)\n",
    "point_counts['censuscode']=point_counts.index\n",
    "point_counts.columns=['fireCountPSqm','censuscode']\n",
    "\n",
    "points_poly=pd.merge(state_poly,point_counts,on='censuscode')\n",
    "points_poly"
   ]
  },
  {
   "cell_type": "markdown",
   "metadata": {},
   "source": [
    "# Adding chloropleth map layer"
   ]
  },
  {
   "cell_type": "code",
   "execution_count": null,
   "metadata": {},
   "outputs": [],
   "source": [
    "#Create SF basemap specifying map center, zoom level, and using the default OpenStreetMap tiles\n",
    "fire_map = folium.Map([19.17, 72.98], zoom_start = 12)\n",
    "\n",
    "def add_choropleth(mapobj, gdf, id_field, value_field, fill_color = 'YlOrRd', fill_opacity = 0.6, \n",
    "                    line_opacity = 0.2, num_classes = 5, classifier = 'Fisher_Jenks'):\n",
    "    #Allow for 3 Pysal map classifiers to display data\n",
    "    #Generate list of breakpoints using specified classification scheme. List of breakpoint will be input to choropleth function\n",
    "    if classifier == 'Fisher_Jenks':\n",
    "        threshold_scale=ps.esda.mapclassify.Fisher_Jenks(gdf[value_field], k = num_classes).bins.tolist()\n",
    "    if classifier == 'Equal_Interval':\n",
    "        threshold_scale=ps.esda.mapclassify.Equal_Interval(gdf[value_field], k = num_classes).bins.tolist()\n",
    "    if classifier == 'Quantiles':\n",
    "        threshold_scale=ps.esda.mapclassify.Quantiles(gdf[value_field], k = num_classes).bins.tolist()\n",
    "    \n",
    "    #Convert the GeoDataFrame to WGS84 coordinate reference system\n",
    "    gdf_wgs84 = gdf.to_crs({'init': 'epsg:4326'})\n",
    "    \n",
    "    #Call Folium choropleth function, specifying the geometry as a the WGS84 dataframe converted to GeoJSON, the data as \n",
    "    #the GeoDataFrame, the columns as the user-specified id field and and value field.\n",
    "    #key_on field refers to the id field within the GeoJSON string\n",
    "    mapobj.choropleth(gdf_wgs84.to_json(), data = gdf,\n",
    "                columns = [id_field, value_field], key_on = 'feature.properties.{}'.format(id_field),\n",
    "                fill_color = fill_color, fill_opacity = fill_opacity, line_opacity = line_opacity,  \n",
    "                threshold_scale = threshold_scale)\n",
    "    return mapobj\n",
    "\n",
    "#Update basemap with choropleth\n",
    "fire_map =add_choropleth(fire_map,points_poly, 'censuscode','fireCountPSqm')"
   ]
  },
  {
   "cell_type": "markdown",
   "metadata": {},
   "source": [
    "# Adding point layer"
   ]
  },
  {
   "cell_type": "code",
   "execution_count": null,
   "metadata": {},
   "outputs": [],
   "source": [
    "def add_point_clusters(mapobj, gdf, popup_field_list):\n",
    "    #Create empty lists to contain the point coordinates and the point pop-up information\n",
    "    coords, popups = [], [] \n",
    "    #Loop through each record in the GeoDataFrame\n",
    "    for i, row in gdf.iterrows():\n",
    "        #Append lat and long coordinates to \"coords\" list\n",
    "        coords.append([row.geometry.y, row.geometry.x])\n",
    "        #Create a string of HTML code used in the IFrame popup\n",
    "        #Join together the fields in \"popup_field_list\" with a linebreak between them\n",
    "        label = '<br>'.join([row[field] for field in popup_field_list])\n",
    "        #Append an IFrame that uses the HTML string to the \"popups\" list \n",
    "        popups.append(IFrame(label, width = 300, height = 100))\n",
    "        \n",
    "    #Create a Folium feature group for this layer, since we will be displaying multiple layers\n",
    "    pt_lyr = folium.FeatureGroup(name = 'pt_lyr')\n",
    "    \n",
    "    #Add the clustered points of crime locations and popups to this layer\n",
    "    pt_lyr.add_children(MarkerCluster(locations = coords, popups = popups))\n",
    "    \n",
    "    #Add this point layer to the map object\n",
    "    mapobj.add_children(pt_lyr)\n",
    "    return mapobj\n",
    "\n",
    "#Update choropleth with point clusters\n",
    "fire_map = add_point_clusters(fire_map,firepts , ['instrument'])"
   ]
  },
  {
   "cell_type": "code",
   "execution_count": null,
   "metadata": {},
   "outputs": [],
   "source": [
    "folium.LayerControl().add_to(fire_map) #Add layer control to toggle on/off\n",
    "#crime_map.save('sf_assaults.html') #save HTML\n",
    "fire_map #display map"
   ]
  },
  {
   "cell_type": "code",
   "execution_count": null,
   "metadata": {},
   "outputs": [],
   "source": []
  }
 ],
 "metadata": {
  "kernelspec": {
   "display_name": "Python 3",
   "language": "python",
   "name": "python3"
  },
  "language_info": {
   "codemirror_mode": {
    "name": "ipython",
    "version": 3
   },
   "file_extension": ".py",
   "mimetype": "text/x-python",
   "name": "python",
   "nbconvert_exporter": "python",
   "pygments_lexer": "ipython3",
   "version": "3.6.6"
  }
 },
 "nbformat": 4,
 "nbformat_minor": 2
}
