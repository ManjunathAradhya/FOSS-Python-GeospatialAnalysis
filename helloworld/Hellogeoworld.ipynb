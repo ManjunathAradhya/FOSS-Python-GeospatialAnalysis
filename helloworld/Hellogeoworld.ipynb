{
 "cells": [
  {
   "cell_type": "markdown",
   "metadata": {},
   "source": [
    "#  Introduction to literal programming- Jupyter notebook, jupyterlab\n",
    "\n",
    "1. House keeping for git \n",
    "```\n",
    "git config --global user.email \"\"\n",
    "git config --global user.name \"\"\n",
    "git config --global core.editor \"nano\"\n",
    "```"
   ]
  },
  {
   "cell_type": "markdown",
   "metadata": {},
   "source": [
    "# Introduction to tools of GIS, GUI\n",
    "\n",
    "1. QGIS\n",
    "2. Google earth"
   ]
  },
  {
   "cell_type": "markdown",
   "metadata": {},
   "source": [
    "# Introduction to vector data"
   ]
  },
  {
   "cell_type": "markdown",
   "metadata": {},
   "source": [
    "## Create point vector \n",
    "\n",
    "1. Shapely point objects and make it into a list\n",
    "1. Create a list of names for point objects\n",
    "1. makes these list of names and object into dataframe\n",
    "1. convert the data frame into geodataframe\n",
    "1. save the geodataframe into geojson"
   ]
  },
  {
   "cell_type": "code",
   "execution_count": null,
   "metadata": {},
   "outputs": [],
   "source": [
    "import pandas as pd\n",
    "from shapely import geometry\n",
    "import geopandas as gp\n",
    "\n",
    "p1 = geometry.Point(78.373590,17.472863)\n",
    "p2 = geometry.Point(78.473351,17.425509)\n",
    "p3 = geometry.Point(78.474656,17.361634)\n",
    "\n",
    "\n",
    "pointList = [p1, p2, p3]\n",
    "\n",
    "p1na='Pycon India 2018'\n",
    "p2na='Hussain Sagar lake'\n",
    "p3na='CHarminar'\n",
    "\n",
    "\n",
    "pointName=[p1na, p2na, p3na]\n",
    "\n",
    "db=pd.DataFrame()\n",
    "db['geometry']=pointList\n",
    "db['place_name']=pointName\n",
    "\n",
    "data2 = gp.GeoDataFrame(db, geometry='geometry')\n",
    "data2.to_file('../data/vector/point.geojson', driver=\"GeoJSON\")"
   ]
  },
  {
   "cell_type": "markdown",
   "metadata": {},
   "source": [
    "## Create a line vector\n",
    "\n",
    "1. Use Point objects into linestrings\n",
    "1. make a geodataframe\n",
    "1. save the geodataframe into geojson"
   ]
  },
  {
   "cell_type": "code",
   "execution_count": null,
   "metadata": {},
   "outputs": [],
   "source": [
    "from shapely.geometry import LineString\n",
    "\n",
    "l1 = LineString([p1,p2])\n",
    "l2= LineString([p2,p3])\n",
    "l3= LineString([p3,p1])\n",
    "\n",
    "\n",
    "lineList=[l1,l2,l3]\n",
    "lineName=['l1','l2','l3']\n",
    "\n",
    "db=pd.DataFrame()\n",
    "db['geometry']=lineList\n",
    "db['place_name']=lineName\n",
    "\n",
    "data2 = gp.GeoDataFrame(db, geometry='geometry')\n",
    "data2.to_file('../data/vector/line.geojson', driver=\"GeoJSON\")"
   ]
  },
  {
   "cell_type": "markdown",
   "metadata": {},
   "source": [
    "## Create a polygon vector\n",
    "\n",
    "1. Make polygon objects\n",
    "1. make a geodataframe\n",
    "1. save the geodataframe into geojson"
   ]
  },
  {
   "cell_type": "code",
   "execution_count": null,
   "metadata": {},
   "outputs": [],
   "source": [
    "from shapely.geometry import Polygon\n",
    "\n",
    "\n",
    "pol1 = Polygon([( 78.233822,17.393613), (78.317881,17.382033), (78.253307,17.347475)])\n",
    "pol2 = Polygon([( 78.301435,17.471475), (78.328037,17.405862),(  78.271997,17.414560)])\n",
    "pol3 = Polygon([(  78.372459,17.473760),( 78.377555,17.473006),(78.376529,17.469260),( 78.370614,17.469482)])\n",
    "g = gp.GeoSeries([pol1, pol2, pol3])\n",
    "\n",
    "#polygon = Polygon([[0, 0], [1, 0], [1, 1], [0, 1]])\n",
    "\n",
    "db=pd.DataFrame()\n",
    "db['geometry']=g\n",
    "db['place_name']=['A polygon','B polygon','C polygon']\n",
    "\n",
    "data2 = gp.GeoDataFrame(db, geometry='geometry')\n",
    "data2.to_file('../data/vector/polygon.geojson', driver=\"GeoJSON\")"
   ]
  },
  {
   "cell_type": "markdown",
   "metadata": {},
   "source": [
    "# Introduction to raster data"
   ]
  },
  {
   "cell_type": "markdown",
   "metadata": {},
   "source": [
    "## create a geo raster from numpy array\n",
    "\n",
    "1. Make a numpy array \n",
    "1. save it as png file\n",
    "1. use rasterio to save tif file with geo information embedded in it"
   ]
  },
  {
   "cell_type": "code",
   "execution_count": null,
   "metadata": {},
   "outputs": [],
   "source": [
    "# source https://gis.stackexchange.com/questions/279953/numpy-array-to-gtiff-using-rasterio-without-source-raster\n",
    "from rasterio.transform import from_origin\n",
    "import numpy as np\n",
    "import rasterio \n",
    "import numpy as np\n",
    "import matplotlib\n",
    "x = np.linspace(-4.0, 4.0, 240)\n",
    "y = np.linspace(-3.0, 3.0, 180)\n",
    "X, Y = np.meshgrid(x, y)\n",
    "Z1 = np.exp(-2 * np.log(2) * ((X - 0.5) ** 2 + (Y - 0.5) ** 2) / 1 ** 2)\n",
    "Z2 = np.exp(-3 * np.log(2) * ((X + 0.5) ** 2 + (Y + 0.5) ** 2) / 2.5 ** 2)\n",
    "Z = 10.0 * (Z2 - Z1)\n",
    "Z\n",
    "res = (x[-1] - x[0]) / 240.0"
   ]
  },
  {
   "cell_type": "code",
   "execution_count": null,
   "metadata": {},
   "outputs": [],
   "source": [
    "#%matplotlib\n",
    "from matplotlib.pyplot import imshow \n",
    "#imshow(Z)\n",
    "\n",
    "%matplotlib inline\n",
    "#pil_im = Image.open('data/empire.jpg', 'r')\n",
    "imshow(np.asarray(Z))\n",
    "matplotlib.image.imsave('../data/raster/image.png', np.asarray(Z))"
   ]
  },
  {
   "cell_type": "code",
   "execution_count": null,
   "metadata": {},
   "outputs": [],
   "source": [
    "transform = from_origin(62.66, 15.11, res, res)"
   ]
  },
  {
   "cell_type": "code",
   "execution_count": null,
   "metadata": {},
   "outputs": [],
   "source": [
    "with rasterio.open('../data/raster/createdGeoRaster.tif', 'w', driver='GTiff', height=Z.shape[0],\n",
    "                   width=Z.shape[1], count=1, dtype=Z.dtype,\n",
    "                   crs='+proj=latlong', transform=transform) as dst:\n",
    "    dst.write(Z, 1)"
   ]
  },
  {
   "cell_type": "markdown",
   "metadata": {},
   "source": [
    "## View the created vectors and rasters\n",
    "\n",
    "1. Use folium to make a map layer\n",
    "1. Open the json file, add it to the map layer\n",
    "1. add layercontrol, and add to map\n",
    "1. view the map"
   ]
  },
  {
   "cell_type": "code",
   "execution_count": null,
   "metadata": {},
   "outputs": [],
   "source": [
    "import folium\n",
    "import geopandas as gpd\n",
    "import json\n",
    "\n",
    "map = folium.Map(location=[17.472863,78.373590],zoom_start=12)\n",
    "file = '../data/vector/polygon.geojson'\n",
    "\n",
    "\n",
    "folium.GeoJson(json.load(open(file)),name='geojson').add_to(map)\n",
    "#folium.GeoJson(file,name='geojson').add_to(map)\n",
    "\n",
    "folium.LayerControl().add_to(map)\n",
    "map"
   ]
  },
  {
   "cell_type": "code",
   "execution_count": null,
   "metadata": {},
   "outputs": [],
   "source": [
    "#source http://qingkaikong.blogspot.com/2016/06/using-folium-5-image-overlay-overlay.html\n",
    "import folium\n",
    "from folium import plugins\n",
    "import rasterio\n",
    "from scipy.ndimage import imread"
   ]
  },
  {
   "cell_type": "code",
   "execution_count": null,
   "metadata": {},
   "outputs": [],
   "source": [
    "# boundary of the image on the map\n",
    "min_lon = 78.334747\n",
    "max_lon =78.595014\n",
    "min_lat = 17.249216\n",
    "max_lat =  17.514049\n",
    "\n",
    "mapa= folium.Map(location=[17.372236, 78.459815],\n",
    "                  tiles='Stamen Terrain', zoom_start = 10)\n",
    "\n",
    "data = imread('../data/raster/image.png')\n",
    "\n",
    "img = folium.raster_layers.ImageOverlay(\n",
    "    name='Landsat imagery',\n",
    "    image=data,\n",
    "    bounds=[[min_lat, min_lon], [max_lat, max_lon]],\n",
    "    opacity=0.8,\n",
    "    interactive=True,\n",
    "    cross_origin=False,\n",
    "    zindex=1,\n",
    ")\n",
    "\n",
    "img.add_to(mapa)\n",
    "\n",
    "folium.LayerControl().add_to(mapa)\n",
    "\n",
    "mapa"
   ]
  },
  {
   "cell_type": "markdown",
   "metadata": {},
   "source": [
    "# binary and text file formats of geospatial data\n",
    "\n",
    "1. comparision on shape file and geojson\n",
    "2. comparision on geotiff and [asc](https://www.qgistutorials.com/en/docs/raster_styling_and_analysis.html)\n",
    "1. [Grib files](https://github.com/cambecc/earth), [source code](https://confluence.ecmwf.int/display/CKB/How+to+plot+GRIB+files+with+Python+and+matplotlib)\n",
    "1. [NETCDF](https://moderndata.plot.ly/weather-maps-in-python-with-mapbox-gl-xarray-and-netcdf4/) files"
   ]
  },
  {
   "cell_type": "code",
   "execution_count": null,
   "metadata": {},
   "outputs": [],
   "source": []
  }
 ],
 "metadata": {
  "author": "Hellogeoworld",
  "kernelspec": {
   "display_name": "Python 3",
   "language": "python",
   "name": "python3"
  },
  "language_info": {
   "codemirror_mode": {
    "name": "ipython",
    "version": 3
   },
   "file_extension": ".py",
   "mimetype": "text/x-python",
   "name": "python",
   "nbconvert_exporter": "python",
   "pygments_lexer": "ipython3",
   "version": "3.6.6"
  },
  "latex_envs": {
   "LaTeX_envs_menu_present": true,
   "autocomplete": true,
   "bibliofile": "biblio.bib",
   "cite_by": "apalike",
   "current_citInitial": 1,
   "eqLabelWithNumbers": true,
   "eqNumInitial": 1,
   "hotkeys": {
    "equation": "Ctrl-E",
    "itemize": "Ctrl-I"
   },
   "labels_anchors": false,
   "latex_user_defs": false,
   "report_style_numbering": false,
   "user_envs_cfg": false
  },
  "toc": {
   "colors": {
    "hover_highlight": "#DAA520",
    "navigate_num": "#000000",
    "navigate_text": "#333333",
    "running_highlight": "#FF0000",
    "selected_highlight": "#FFD700",
    "sidebar_border": "#EEEEEE",
    "wrapper_background": "#FFFFFF"
   },
   "moveMenuLeft": true,
   "nav_menu": {
    "height": "216px",
    "width": "252px"
   },
   "navigate_menu": true,
   "number_sections": false,
   "sideBar": true,
   "threshold": 4,
   "toc_cell": true,
   "toc_section_display": "block",
   "toc_window_display": true,
   "widenNotebook": false
  }
 },
 "nbformat": 4,
 "nbformat_minor": 2
}
