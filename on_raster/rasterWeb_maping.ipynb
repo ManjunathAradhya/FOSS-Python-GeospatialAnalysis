{
 "cells": [
  {
   "cell_type": "markdown",
   "metadata": {},
   "source": [
    "# Web maping of raster imageries [source](http://nbviewer.jupyter.org/github/python-visualization/folium/blob/master/examples/ImageOverlay.ipynb)"
   ]
  },
  {
   "cell_type": "code",
   "execution_count": null,
   "metadata": {},
   "outputs": [],
   "source": [
    "%matplotlib inline\n",
    "import folium\n",
    "from folium import plugins\n",
    "import rasterio"
   ]
  },
  {
   "cell_type": "code",
   "execution_count": null,
   "metadata": {},
   "outputs": [],
   "source": [
    "raster = rasterio.open('../data/raster/Mumbai_2016.tif')\n",
    "source = raster.read(1)"
   ]
  },
  {
   "cell_type": "code",
   "execution_count": null,
   "metadata": {},
   "outputs": [],
   "source": [
    "raster.profile"
   ]
  },
  {
   "cell_type": "code",
   "execution_count": null,
   "metadata": {},
   "outputs": [],
   "source": [
    "raster.bounds"
   ]
  },
  {
   "cell_type": "code",
   "execution_count": null,
   "metadata": {},
   "outputs": [],
   "source": [
    "\n",
    "# boundary of the image on the map\n",
    "min_lon = 72.77625\n",
    "max_lon = 72.97975000000001\n",
    "min_lat = 18.89375\n",
    "max_lat = 19.27025\n",
    "\n",
    "#19.17,lat_0=72.98\n",
    "# create the map\n",
    "mapa= folium.Map(location=[19.17, 72.98],\n",
    "                  tiles='Stamen Terrain', zoom_start = 12)\n",
    "\n",
    "img = folium.raster_layers.ImageOverlay(\n",
    "    name='Landsat imagery',\n",
    "    image=source,\n",
    "    bounds=[[min_lat, min_lon], [max_lat, max_lon]],\n",
    "    opacity=0.8,\n",
    "    interactive=True,\n",
    "    cross_origin=False,\n",
    "    zindex=1,\n",
    ")\n",
    "\n",
    "folium.Popup('I am an image').add_to(img)\n",
    "\n",
    "img.add_to(mapa)\n",
    "\n",
    "folium.LayerControl().add_to(mapa)\n",
    "\n",
    "mapa"
   ]
  },
  {
   "cell_type": "markdown",
   "metadata": {},
   "source": [
    "# Excercise\n",
    "1. Visualize cloud tif from ImagerySearchAndSOrt.ipynb"
   ]
  },
  {
   "cell_type": "code",
   "execution_count": null,
   "metadata": {},
   "outputs": [],
   "source": []
  }
 ],
 "metadata": {
  "kernelspec": {
   "display_name": "Python 3",
   "language": "python",
   "name": "python3"
  },
  "language_info": {
   "codemirror_mode": {
    "name": "ipython",
    "version": 3
   },
   "file_extension": ".py",
   "mimetype": "text/x-python",
   "name": "python",
   "nbconvert_exporter": "python",
   "pygments_lexer": "ipython3",
   "version": "3.6.6"
  }
 },
 "nbformat": 4,
 "nbformat_minor": 2
}
