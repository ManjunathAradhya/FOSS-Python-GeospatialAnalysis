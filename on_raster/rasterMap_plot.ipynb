{
 "cells": [
  {
   "cell_type": "markdown",
   "metadata": {},
   "source": [
    "# Map plot of SRTM DEM based [on](http://geologyandpython.com/dem-processing.html) \n",
    "1. [SRTM](https://earthdata.nasa.gov/nasa-shuttle-radar-topography-mission-srtm-version-3-0-global-1-arc-second-data-released-over-asia-and-australia)"
   ]
  },
  {
   "cell_type": "code",
   "execution_count": null,
   "metadata": {},
   "outputs": [],
   "source": [
    "#http://geologyandpython.com/dem-processing.html\n",
    "import numpy as np\n",
    "import matplotlib.pyplot as plt\n",
    "import seaborn as sns\n",
    "import geopandas as gpd\n",
    "%matplotlib inline"
   ]
  },
  {
   "cell_type": "code",
   "execution_count": null,
   "metadata": {},
   "outputs": [],
   "source": [
    "bounds = gpd.read_file('../data/vector/Mumbai_extent.geojson').bounds"
   ]
  },
  {
   "cell_type": "code",
   "execution_count": null,
   "metadata": {},
   "outputs": [],
   "source": [
    "bounds"
   ]
  },
  {
   "cell_type": "code",
   "execution_count": null,
   "metadata": {},
   "outputs": [],
   "source": [
    "west, south, east, north = bounds = bounds.loc[0]"
   ]
  },
  {
   "cell_type": "code",
   "execution_count": null,
   "metadata": {},
   "outputs": [],
   "source": [
    "west, south, east, north = bounds  = west - .05, south - .05, east + .05, north + .05"
   ]
  },
  {
   "cell_type": "markdown",
   "metadata": {},
   "source": [
    "# Download the DEM"
   ]
  },
  {
   "cell_type": "code",
   "execution_count": null,
   "metadata": {},
   "outputs": [],
   "source": [
    "import elevation\n",
    "import os\n",
    "dem_path = '/home/jovyan/FOSS-Python-GeospatialAnalysis/data/raster/Mumbai_DEM.tif'\n",
    "output = dem_path"
   ]
  },
  {
   "cell_type": "code",
   "execution_count": null,
   "metadata": {},
   "outputs": [],
   "source": [
    "elevation.clip(bounds=bounds, output=output, product='SRTM3')"
   ]
  },
  {
   "cell_type": "markdown",
   "metadata": {},
   "source": [
    "# Read the DEM"
   ]
  },
  {
   "cell_type": "code",
   "execution_count": null,
   "metadata": {},
   "outputs": [],
   "source": [
    "import rasterio\n",
    "\n",
    "dem_raster = rasterio.open(output)\n",
    "source = dem_raster.read(1)\n",
    "source\n",
    "#dem_raster"
   ]
  },
  {
   "cell_type": "markdown",
   "metadata": {},
   "source": [
    "# Visualize the DEM"
   ]
  },
  {
   "cell_type": "code",
   "execution_count": null,
   "metadata": {},
   "outputs": [],
   "source": [
    "#try:\n",
    "import pycpt\n",
    "topocmap = pycpt.load.cmap_from_cptcity_url('wkp/schwarzwald/wiki-schwarzwald-cont.cpt')\n",
    "#except:\n",
    "#    topocmap = 'Spectral_r'\n",
    "#"
   ]
  },
  {
   "cell_type": "code",
   "execution_count": null,
   "metadata": {},
   "outputs": [],
   "source": [
    "from numpy import copy, random, arange\n",
    "\n",
    "# unique, counts = np.unique(source, return_counts=True)\n",
    "# dattif=dict(zip(unique, counts))\n",
    "# dattif\n",
    "\n",
    "def f1(a, d):\n",
    "    b = copy(a)\n",
    "    for k, v in d.items():\n",
    "        b[a==k] = v\n",
    "    return b\n",
    "\n",
    "d = {-32768:0,-16:0,-15:0,-13:0,-12:0,-11:0,-10:0,-9:0,-8:0,-7:0,-6:0,-5:0,-4:0,-3:0,-2:0,-1:0}\n",
    "data_dem=f1(source,d)"
   ]
  },
  {
   "cell_type": "code",
   "execution_count": null,
   "metadata": {},
   "outputs": [],
   "source": [
    "unique, counts = np.unique(data_dem, return_counts=True)\n",
    "dattif=dict(zip(unique, counts))\n",
    "#dattif"
   ]
  },
  {
   "cell_type": "code",
   "execution_count": null,
   "metadata": {},
   "outputs": [],
   "source": [
    "import matplotlib.pyplot as plt\n",
    "\n",
    "vmin = 180\n",
    "vmax = 575\n",
    "\n",
    "ax = sns.distplot(data_dem.ravel(), axlabel='Elevation (m)')\n",
    "ax = plt.gca()\n",
    "_ = [patch.set_color(topocmap(plt.Normalize(vmin=vmin, vmax=vmax)(patch.xy[0]))) for patch in ax.patches]\n",
    "_ = [patch.set_alpha(1) for patch in ax.patches]\n",
    "ax.get_figure().savefig('1.png')\n"
   ]
  },
  {
   "cell_type": "code",
   "execution_count": null,
   "metadata": {},
   "outputs": [],
   "source": [
    "extent = xmin, xmax, ymin, ymax = west,east, south, north "
   ]
  },
  {
   "cell_type": "code",
   "execution_count": null,
   "metadata": {},
   "outputs": [],
   "source": [
    "extent"
   ]
  },
  {
   "cell_type": "code",
   "execution_count": null,
   "metadata": {},
   "outputs": [],
   "source": [
    "def hillshade(array, azimuth, angle_altitude):\n",
    "\n",
    "    # Source: http://geoexamples.blogspot.com.br/2014/03/shaded-relief-images-using-gdal-python.html\n",
    "\n",
    "    x, y = np.gradient(array)\n",
    "    slope = np.pi/2. - np.arctan(np.sqrt(x*x + y*y))\n",
    "    aspect = np.arctan2(-x, y)\n",
    "    azimuthrad = azimuth*np.pi / 180.\n",
    "    altituderad = angle_altitude*np.pi / 180.\n",
    "\n",
    "\n",
    "    shaded = np.sin(altituderad) * np.sin(slope) \\\n",
    "     + np.cos(altituderad) * np.cos(slope) \\\n",
    "     * np.cos(azimuthrad - aspect)\n",
    "    return 255*(shaded + 1)/2\n"
   ]
  },
  {
   "cell_type": "code",
   "execution_count": null,
   "metadata": {},
   "outputs": [],
   "source": [
    "fig = plt.figure(figsize=(12, 8))\n",
    "ax = fig.add_subplot(111)\n",
    "ax.matshow(hillshade(data_dem, 30, 30), extent=extent, cmap='Greys', alpha=.5, zorder=10)\n",
    "cax = ax.contourf(data_dem, np.arange(vmin, vmax, 10),extent=extent, \n",
    "                  cmap=topocmap, vmin=vmin, vmax=vmax, origin='image')\n",
    "fig.colorbar(cax, ax=ax)\n",
    "fig.savefig('2.png')"
   ]
  },
  {
   "cell_type": "code",
   "execution_count": null,
   "metadata": {},
   "outputs": [],
   "source": []
  }
 ],
 "metadata": {
  "kernelspec": {
   "display_name": "Python 3",
   "language": "python",
   "name": "python3"
  },
  "language_info": {
   "codemirror_mode": {
    "name": "ipython",
    "version": 3
   },
   "file_extension": ".py",
   "mimetype": "text/x-python",
   "name": "python",
   "nbconvert_exporter": "python",
   "pygments_lexer": "ipython3",
   "version": "3.6.6"
  }
 },
 "nbformat": 4,
 "nbformat_minor": 2
}
